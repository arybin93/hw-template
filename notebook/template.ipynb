{
 "cells": [
  {
   "cell_type": "code",
   "execution_count": 5,
   "metadata": {
    "collapsed": true,
    "pycharm": {
     "name": "#%%\n"
    }
   },
   "outputs": [
    {
     "name": "stdout",
     "output_type": "stream",
     "text": [
      "<pyspark.sql.session.SparkSession object at 0x0F05E7D8>\n"
     ]
    }
   ],
   "source": [
    "from pyspark.sql import SparkSession\n",
    "\n",
    "spark = SparkSession.builder\\\n",
    "        .master('local[4]')\\\n",
    "        .appName('spark-basics')\\\n",
    "        .getOrCreate()\n",
    "\n",
    "print(spark)\n"
   ]
  },
  {
   "cell_type": "code",
   "execution_count": 6,
   "outputs": [
    {
     "name": "stdout",
     "output_type": "stream",
     "text": [
      "root\n",
      " |-- lng: double (nullable = true)\n",
      " |-- lat: double (nullable = true)\n",
      " |-- avg_tmpr_f: double (nullable = true)\n",
      " |-- avg_tmpr_c: double (nullable = true)\n",
      " |-- wthr_date: string (nullable = true)\n",
      " |-- year: string (nullable = true)\n",
      " |-- month: string (nullable = true)\n",
      " |-- day: string (nullable = true)\n",
      "\n"
     ]
    }
   ],
   "source": [
    "from pyspark.sql.types import StructType, StructField, StringType, DoubleType\n",
    "\n",
    "weather_data = [\n",
    "        (-119.936437, 39.244493, 82.1, 27.8, \"2016-10-01\", \"2016\", \"10\", \"01\"),\n",
    "        (-120.142, 39.2037, 67.1, 19.5, \"2016-10-01\", \"2016\", \"10\", \"01\"),\n",
    "        (-120.086, 39.2119, 67.9, 19.9, \"2016-10-01\", \"2016\", \"10\", \"01\"),\n",
    "        (-119.936437, 39.244493, 81.8, 27.7, \"2016-10-02\", \"2016\", \"10\", \"02\"),\n",
    "        (-76.87629, 38.66893, 74.2, 23.4, \"2016-10-01\", \"2016\", \"10\", \"01\"),\n",
    "        (-76.87629, 38.66893, 72.4, 22.4, \"2016-10-02\", \"2016\", \"10\", \"02\"),\n",
    "        (-14.87629, 23.66893, 0.0, 12.4, \"2016-10-01\", \"2016\", \"10\", \"01\"),\n",
    "    ]\n",
    "schema = StructType([\n",
    "    StructField(\"lng\", DoubleType(), True),\n",
    "    StructField(\"lat\", DoubleType(), True),\n",
    "    StructField(\"avg_tmpr_f\", DoubleType(), True),\n",
    "    StructField(\"avg_tmpr_c\", DoubleType(), True),\n",
    "    StructField(\"wthr_date\", StringType(), True),\n",
    "    StructField(\"year\", StringType(), True),\n",
    "    StructField(\"month\", StringType(), True),\n",
    "    StructField(\"day\", StringType(), True)\n",
    "])\n",
    "df = spark.createDataFrame(data=weather_data, schema=schema)\n",
    "df.printSchema()\n"
   ],
   "metadata": {
    "collapsed": false,
    "pycharm": {
     "name": "#%%\n"
    }
   }
  }
 ],
 "metadata": {
  "kernelspec": {
   "display_name": "Python 3",
   "language": "python",
   "name": "python3"
  },
  "language_info": {
   "codemirror_mode": {
    "name": "ipython",
    "version": 2
   },
   "file_extension": ".py",
   "mimetype": "text/x-python",
   "name": "python",
   "nbconvert_exporter": "python",
   "pygments_lexer": "ipython2",
   "version": "2.7.6"
  }
 },
 "nbformat": 4,
 "nbformat_minor": 0
}